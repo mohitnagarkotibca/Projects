{
 "cells": [
  {
   "cell_type": "code",
   "execution_count": 1,
   "metadata": {},
   "outputs": [],
   "source": [
    "from sklearn import datasets    \n",
    "import numpy as np         \n",
    "import pandas as pd\n",
    "import matplotlib.pyplot as plt\n",
    "plt.style.use('fivethirtyeight')"
   ]
  },
  {
   "cell_type": "markdown",
   "metadata": {},
   "source": [
    "### Get Dataset"
   ]
  },
  {
   "cell_type": "code",
   "execution_count": 2,
   "metadata": {},
   "outputs": [
    {
     "name": "stdout",
     "output_type": "stream",
     "text": [
      "dataset has 150 examples each containing 4 features \n",
      "Number of target values:  150\n"
     ]
    }
   ],
   "source": [
    "iris = datasets.load_iris()      \n",
    "data = iris.data                 \n",
    "target = iris.target             \n",
    "\n",
    "shape = data.shape             \n",
    "\n",
    "\n",
    "data = np.array(data).reshape(shape[0],shape[1])\n",
    "target = np.array(target).reshape(shape[0],1)\n",
    "\n",
    "print('dataset has {} examples each containing {} features '.format(data.shape[0],data.shape[1]))\n",
    "print('Number of target values: ', target.shape[0])"
   ]
  },
  {
   "cell_type": "code",
   "execution_count": 10,
   "metadata": {},
   "outputs": [
    {
     "data": {
      "text/plain": [
       "(0.0, 60.0)"
      ]
     },
     "execution_count": 10,
     "metadata": {},
     "output_type": "execute_result"
    },
    {
     "data": {
      "image/png": "[encoded data removed]",
      "text/plain": [
       "<Figure size 432x288 with 1 Axes>"
      ]
     },
     "metadata": {},
     "output_type": "display_data"
    }
   ],
   "source": [
    "#checking wether the dataset is balanced or not\n",
    "pd.Series(np.squeeze(target)).value_counts().plot(kind='bar',title= 'Data distribution of target values')\n",
    "plt.xlabel('types of target variable')\n",
    "plt.ylabel('number of target variable')\n",
    "plt.ylim(0,60)"
   ]
  },
  {
   "cell_type": "code",
   "execution_count": 4,
   "metadata": {},
   "outputs": [],
   "source": [
    "# Defining parameters and Hyperparameters\n",
    "# number of of hidden layers: 1\n",
    "# number of intital units in hidden layer: 8\n",
    "# number of output units: 3\n",
    "# number of input units: 4"
   ]
  },
  {
   "cell_type": "code",
   "execution_count": 5,
   "metadata": {},
   "outputs": [],
   "source": [
    "\n",
    "num_classes = len(np.unique(target))\n",
    "\n",
    "# number of features\n",
    "input_units  = 4   \n",
    "\n",
    "# number of units in hidden layer\n",
    "hidden_units = 8  \n",
    "\n",
    "#number of outputs in last layer\n",
    "output_units = 3   \n",
    "\n",
    "#define hyper-parameters\n",
    "learning_rate = 0.03\n",
    "\n",
    "#regularization parameter in case overfitting\n",
    "beta = 0.00001\n",
    "\n",
    "#num of iterations\n",
    "iters = 4001"
   ]
  },
  {
   "cell_type": "markdown",
   "metadata": {},
   "source": [
    "### Dimesions of Parameters\n",
    "Shape of W0 (Wxh) = (4,8)  <br>\n",
    "Shape of layer1_biasess (Bh) = (8,1)  <br>\n",
    "Shape of W1 (Why) = (8,3)  <br>\n",
    "Shape of layer2_biasess (By) = (3,1)  <br>"
   ]
  },
  {
   "cell_type": "code",
   "execution_count": 6,
   "metadata": {},
   "outputs": [],
   "source": [
    "#PARAMETERS\n",
    "\n",
    "def initialize_parameters(train_dataset):\n",
    "    input_units= train_dataset.shape[1]\n",
    "    hidden_units=  8\n",
    "    mean = 0       \n",
    "    std = 0.03      \n",
    "    \n",
    "    W0 = np.random.normal(mean,std,(input_units,hidden_units))          \n",
    "    layer1_biases = np.ones((hidden_units,1))                                       \n",
    "    W1 = np.random.normal(mean,std,(hidden_units,output_units))\n",
    "    layer2_biases = np.ones((output_units,1))\n",
    "    \n",
    "    parameters = dict()\n",
    "    parameters['W0'] = W0\n",
    "    parameters['layer1_biases'] = layer1_biases\n",
    "    parameters['W1'] = W1\n",
    "    parameters['layer2_biases'] = layer2_biases\n",
    "    \n",
    "    return parameters\n"
   ]
  },
  {
   "cell_type": "code",
   "execution_count": 7,
   "metadata": {},
   "outputs": [],
   "source": [
    "def sigmoid(X):\n",
    "    return 1/(1+np.exp((-1)*X))\n",
    "\n",
    "\n",
    "def softmax(X):\n",
    "    exp_X = np.exp(X)\n",
    "    exp_X_sum = np.sum(exp_X,axis=1).reshape(-1,1)\n",
    "    exp_X = (exp_X/exp_X_sum)\n",
    "    return exp_X"
   ]
  },
  {
   "cell_type": "code",
   "execution_count": 8,
   "metadata": {},
   "outputs": [],
   "source": [
    "\n",
    "def forward_propagation(train_dataset,parameters):\n",
    "    cache = dict()          \n",
    "    m = len(train_dataset)    \n",
    "    \n",
    "\n",
    "    W0 = parameters['W0']\n",
    "    layer1_biases = parameters['layer1_biases']\n",
    "    W1 = parameters['W1']\n",
    "    layer2_biases = parameters['layer2_biases']\n",
    "    \n",
    "    #forward prop\n",
    "    Z1 = np.matmul(train_dataset,W0) + layer1_biases.T\n",
    "    A1 = np.array(sigmoid(Z1)).reshape(m,hidden_units)\n",
    "    A2 = np.array(np.matmul(A1,W1) + layer2_biases.T).reshape(m,output_units)\n",
    "    output = np.array(softmax(A2)).reshape(m,num_classes)\n",
    "    \n",
    "    #fill in the cache\n",
    "    cache['output'] = output\n",
    "    cache['A1'] = A1\n",
    "    \n",
    "    return cache,output\n",
    "\n",
    "#backward propagation\n",
    "def backward_propagation(train_dataset,train_labels,parameters,cache):\n",
    "    derivatives = dict()         #to store the derivatives\n",
    "    \n",
    "    #get stuff from cache\n",
    "    output = cache['output']\n",
    "    A1 = cache['A1']\n",
    "    \n",
    "    #get parameters\n",
    "    W0 = parameters['W0']\n",
    "    W1 = parameters['W1']\n",
    "    \n",
    "    #calculate errors\n",
    "    error_output = output - train_labels\n",
    "    error_A1 = np.matmul(error_output,W1.T)\n",
    "    error_A1 = np.multiply(error_A1,A1)\n",
    "    error_A1 = np.multiply(error_A1,1-A1)\n",
    "    \n",
    "    \n",
    "    #calculate partial derivatives\n",
    "    partial_derivatives2 = np.matmul(A1.T,error_output)/len(train_dataset)\n",
    "    partial_derivatives1 = np.matmul(train_dataset.T,error_A1)/len(train_dataset)\n",
    "    \n",
    "    #store the derivatives\n",
    "    derivatives['partial_derivatives1'] = partial_derivatives1\n",
    "    derivatives['partial_derivatives2'] = partial_derivatives2\n",
    "    \n",
    "    return derivatives\n",
    "\n",
    "\n",
    "#update the parameters\n",
    "def update_parameters(derivatives,parameters):\n",
    "    #get the parameters\n",
    "    W0 = parameters['W0']\n",
    "    W1 = parameters['W1']\n",
    "    \n",
    "    #get the derivatives\n",
    "    partial_derivatives1 = derivatives['partial_derivatives1']\n",
    "    partial_derivatives2 = derivatives['partial_derivatives2']\n",
    "    \n",
    "    #update the derivatives\n",
    "    W0 -= (learning_rate*(partial_derivatives1 + beta*W0))\n",
    "    W1 -= (learning_rate*(partial_derivatives2 + beta*W1))\n",
    "    \n",
    "    #update the dict\n",
    "    parameters['W0'] = W0\n",
    "    parameters['W1'] = W1\n",
    "    \n",
    "    return parameters\n",
    "    \n",
    "#calculate the loss and accuracy\n",
    "def cal_loss_accuray(train_labels,predictions,parameters):\n",
    "    #get the parameters\n",
    "    W0 = parameters['W0']\n",
    "    W1 = parameters['W1']\n",
    "    \n",
    "    #cal loss and accuracy\n",
    "    loss = -1*np.sum(np.multiply(np.log(predictions),train_labels) + np.multiply(np.log(1-predictions),(1-train_labels)))/len(train_labels) + np.sum(W0**2)*beta/len(train_labels) + np.sum(W1**2)*beta/len(train_labels)\n",
    "    accuracy = np.sum(np.argmax(train_labels,axis=1)==np.argmax(predictions,axis=1))\n",
    "    accuracy /= len(train_dataset)\n",
    "    \n",
    "    return loss,accuracy"
   ]
  },
  {
   "cell_type": "code",
   "execution_count": 9,
   "metadata": {},
   "outputs": [],
   "source": [
    "def train(train_dataset,train_labels,iters=2):\n",
    "    J = []\n",
    "    Acc=[]\n",
    "    global W0\n",
    "    global layer1_biases\n",
    "    global W1\n",
    "    global layer2_biases\n",
    "  \n",
    "\n",
    "    parameters = initialize_parameters(train_dataset)\n",
    "    W0 = parameters['W0']\n",
    "    layer1_biases = parameters['layer1_biases']\n",
    "    W1 = parameters['W1']\n",
    "    layer2_biases = parameters['layer2_biases']\n",
    "    \n",
    "    final_output = []\n",
    "    \n",
    "    for j in range(iters):\n",
    "\n",
    "        cache,output = forward_propagation(train_dataset,parameters)\n",
    "\n",
    "\n",
    "        derivatives = backward_propagation(train_dataset,train_labels,parameters,cache)\n",
    "        \n",
    "\n",
    "        loss,accuracy = cal_loss_accuray(train_labels,output,parameters)\n",
    "        \n",
    "\n",
    "        parameters = update_parameters(derivatives,parameters)\n",
    "\n",
    "        J.append(loss)\n",
    "        Acc.append(accuracy)\n",
    "        final_output = output\n",
    "\n",
    "        if(j%500==0):\n",
    "            print('Iteration :',j, 'Accuracy :',accuracy*100, 'with loss :',loss)\n",
    "        fit_p= {'W1':W0,'B1':layer1_biases}\n",
    "    return Acc,J,final_output,parameters"
   ]
  },
  {
   "cell_type": "code",
   "execution_count": 10,
   "metadata": {},
   "outputs": [],
   "source": [
    "\n",
    "z = list(zip(data,target))\n",
    "np.random.shuffle(z)\n",
    "data,target = zip(*z)\n",
    "\n",
    "train_dataset = np.array(data).reshape(-1,4)\n",
    "train_labels = np.zeros([train_dataset.shape[0],num_classes])\n",
    "#one-hot encoding\n",
    "for i,label in enumerate(target):\n",
    "    train_labels[i,label] = 1"
   ]
  },
  {
   "cell_type": "code",
   "execution_count": 11,
   "metadata": {},
   "outputs": [],
   "source": [
    "#normalization\n",
    "for i in range(input_units):\n",
    "    mean = train_dataset[:,i].mean()\n",
    "    std = train_dataset[:,i].std()\n",
    "    train_dataset[:,i] = (train_dataset[:,i]-mean)/std"
   ]
  },
  {
   "cell_type": "code",
   "execution_count": 12,
   "metadata": {
    "scrolled": true
   },
   "outputs": [],
   "source": [
    "# accuracy,J,final_output,P = train(train_dataset,train_labels,iters=5001)"
   ]
  },
  {
   "cell_type": "code",
   "execution_count": 13,
   "metadata": {
    "scrolled": true
   },
   "outputs": [],
   "source": [
    "# X= pd.DataFrame(train_dataset)\n",
    "# Y= pd.Series([f for f in train_labels])\n",
    "# to unpack Y\n",
    "# print(np.array([z for z in Y]).shape)\n",
    "\n",
    "from sklearn.model_selection import train_test_split\n",
    "train_x,val_x,train_y1,val_y1= train_test_split(train_dataset, train_labels)\n",
    "train_y= np.array([z for z in train_y1])\n",
    "val_y= np.array([v for v in val_y1])\n"
   ]
  },
  {
   "cell_type": "code",
   "execution_count": 14,
   "metadata": {
    "scrolled": true
   },
   "outputs": [
    {
     "name": "stdout",
     "output_type": "stream",
     "text": [
      "Iteration : 0 Accuracy : 22.666666666666664 with loss : 1.9094662929966546\n",
      "Iteration : 500 Accuracy : 51.33333333333333 with loss : 1.6457457053587798\n",
      "Iteration : 1000 Accuracy : 70.0 with loss : 0.8444501564291123\n",
      "Iteration : 1500 Accuracy : 70.0 with loss : 0.6026206560696186\n",
      "Iteration : 2000 Accuracy : 71.33333333333334 with loss : 0.4772404989435196\n",
      "Iteration : 2500 Accuracy : 71.33333333333334 with loss : 0.39517656963756076\n",
      "Iteration : 3000 Accuracy : 71.33333333333334 with loss : 0.3367372134344139\n",
      "Iteration : 3500 Accuracy : 71.33333333333334 with loss : 0.2950251461290713\n",
      "Iteration : 4000 Accuracy : 72.0 with loss : 0.2651421709703325\n",
      "Iteration : 4500 Accuracy : 72.0 with loss : 0.24323863498303452\n",
      "Iteration : 5000 Accuracy : 72.0 with loss : 0.22666289016217436\n"
     ]
    }
   ],
   "source": [
    "accuracy,loss,J,P= train(train_x,train_y,iters=5001)"
   ]
  },
  {
   "cell_type": "code",
   "execution_count": 15,
   "metadata": {
    "scrolled": true
   },
   "outputs": [],
   "source": [
    "def predict(train_dataset,parameters):\n",
    "    cache,output = forward_propagation(train_dataset,parameters)\n",
    "    return [list(x).index(max(x)) for x in output]\n",
    "\n",
    "# actual=[list(x).index(max(x)) for x in val_y]\n",
    "# Ot= predict(val_x,P)\n",
    "\n",
    "# loss,accuracy= cal_loss_accuray(val_y,Ot,P)\n",
    "# print(loss, accuracy*100)"
   ]
  },
  {
   "cell_type": "code",
   "execution_count": null,
   "metadata": {},
   "outputs": [],
   "source": []
  },
  {
   "cell_type": "code",
   "execution_count": null,
   "metadata": {},
   "outputs": [],
   "source": []
  }
 ],
 "metadata": {
  "kernelspec": {
   "display_name": "Python 3",
   "language": "python",
   "name": "python3"
  },
  "language_info": {
   "codemirror_mode": {
    "name": "ipython",
    "version": 3
   },
   "file_extension": ".py",
   "mimetype": "text/x-python",
   "name": "python",
   "nbconvert_exporter": "python",
   "pygments_lexer": "ipython3",
   "version": "3.7.3"
  }
 },
 "nbformat": 4,
 "nbformat_minor": 4
}
