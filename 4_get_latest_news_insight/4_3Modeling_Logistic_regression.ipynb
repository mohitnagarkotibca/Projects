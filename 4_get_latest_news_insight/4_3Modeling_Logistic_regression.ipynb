{
 "cells": [
  {
   "cell_type": "code",
   "execution_count": 43,
   "metadata": {},
   "outputs": [],
   "source": [
    "import pandas as pd\n",
    "from sklearn.linear_model import LogisticRegression\n",
    "from sklearn.model_selection import RandomizedSearchCV\n",
    "from sklearn.model_selection import GridSearchCV,ShuffleSplit\n",
    "\n",
    "from sklearn.metrics import accuracy_score\n",
    "import numpy as np\n",
    "from sklearn.metrics import classification_report,accuracy_score,confusion_matrix"
   ]
  },
  {
   "cell_type": "code",
   "execution_count": 44,
   "metadata": {},
   "outputs": [],
   "source": [
    "data= pd.read_csv('data/news_dataset_v3_FE.csv')\n",
    "train_x= pd.read_pickle('data/train.pickle')\n",
    "train_y= pd.read_pickle('data/train_y.pickle')\n",
    "\n",
    "val_x= pd.read_pickle('data/test.pickle')\n",
    "val_y= pd.read_pickle('data/test_y.pickle')"
   ]
  },
  {
   "cell_type": "markdown",
   "metadata": {},
   "source": [
    "##  Predicting Using Default parameters of Logistics Regression :"
   ]
  },
  {
   "cell_type": "code",
   "execution_count": 68,
   "metadata": {},
   "outputs": [],
   "source": [
    "lr= LogisticRegression()"
   ]
  },
  {
   "cell_type": "code",
   "execution_count": 69,
   "metadata": {},
   "outputs": [
    {
     "data": {
      "text/plain": [
       "{'C': 1.0,\n",
       " 'class_weight': None,\n",
       " 'dual': False,\n",
       " 'fit_intercept': True,\n",
       " 'intercept_scaling': 1,\n",
       " 'l1_ratio': None,\n",
       " 'max_iter': 100,\n",
       " 'multi_class': 'auto',\n",
       " 'n_jobs': None,\n",
       " 'penalty': 'l2',\n",
       " 'random_state': None,\n",
       " 'solver': 'lbfgs',\n",
       " 'tol': 0.0001,\n",
       " 'verbose': 0,\n",
       " 'warm_start': False}"
      ]
     },
     "execution_count": 69,
     "metadata": {},
     "output_type": "execute_result"
    }
   ],
   "source": [
    "lr.get_params()"
   ]
  },
  {
   "cell_type": "code",
   "execution_count": 70,
   "metadata": {},
   "outputs": [
    {
     "name": "stderr",
     "output_type": "stream",
     "text": [
      "C:\\ProgramData\\Anaconda3\\lib\\site-packages\\sklearn\\utils\\validation.py:73: DataConversionWarning: A column-vector y was passed when a 1d array was expected. Please change the shape of y to (n_samples, ), for example using ravel().\n",
      "  return f(**kwargs)\n"
     ]
    },
    {
     "data": {
      "text/plain": [
       "LogisticRegression()"
      ]
     },
     "execution_count": 70,
     "metadata": {},
     "output_type": "execute_result"
    }
   ],
   "source": [
    "lr.fit(train_x,train_y)"
   ]
  },
  {
   "cell_type": "code",
   "execution_count": 71,
   "metadata": {},
   "outputs": [
    {
     "data": {
      "text/plain": [
       "97.67318878900053"
      ]
     },
     "execution_count": 71,
     "metadata": {},
     "output_type": "execute_result"
    }
   ],
   "source": [
    "answer1= lr.predict(train_x)\n",
    "accuracy_score(answer1,train_y)*100"
   ]
  },
  {
   "cell_type": "code",
   "execution_count": 72,
   "metadata": {},
   "outputs": [
    {
     "data": {
      "text/plain": [
       "94.61077844311377"
      ]
     },
     "execution_count": 72,
     "metadata": {},
     "output_type": "execute_result"
    }
   ],
   "source": [
    "answer2= lr.predict(val_x)\n",
    "accuracy_score(answer2,val_y)*100"
   ]
  },
  {
   "cell_type": "code",
   "execution_count": 10,
   "metadata": {},
   "outputs": [
    {
     "name": "stdout",
     "output_type": "stream",
     "text": [
      "               precision    recall  f1-score   support\n",
      "\n",
      "     business       0.96      0.98      0.97       422\n",
      "entertainment       0.95      0.99      0.97       323\n",
      "     politics       0.98      0.95      0.97       355\n",
      "        sport       1.00      0.99      0.99       443\n",
      "         tech       0.99      0.97      0.98       348\n",
      "\n",
      "     accuracy                           0.98      1891\n",
      "    macro avg       0.98      0.98      0.98      1891\n",
      " weighted avg       0.98      0.98      0.98      1891\n",
      "\n"
     ]
    }
   ],
   "source": [
    "print(classification_report(answer1,train_y))"
   ]
  },
  {
   "cell_type": "code",
   "execution_count": 50,
   "metadata": {},
   "outputs": [
    {
     "name": "stdout",
     "output_type": "stream",
     "text": [
      "               precision    recall  f1-score   support\n",
      "\n",
      "     business       0.98      0.89      0.93        89\n",
      "entertainment       0.94      0.94      0.94        49\n",
      "     politics       0.89      0.98      0.93        65\n",
      "        sport       0.99      1.00      0.99        71\n",
      "         tech       0.93      0.93      0.93        60\n",
      "\n",
      "     accuracy                           0.95       334\n",
      "    macro avg       0.94      0.95      0.95       334\n",
      " weighted avg       0.95      0.95      0.95       334\n",
      "\n"
     ]
    }
   ],
   "source": [
    "print(classification_report(answer2,val_y))"
   ]
  },
  {
   "cell_type": "markdown",
   "metadata": {},
   "source": [
    "## Prediction by tuning some hyperparameters:"
   ]
  },
  {
   "cell_type": "code",
   "execution_count": 73,
   "metadata": {},
   "outputs": [],
   "source": [
    "C = [float(x) for x in np.linspace(start = 0.1, stop = 1, num = 10)]\n",
    "multi_class=['multinomial']\n",
    "solver = ['newton-cg', 'sag', 'saga', 'lbfgs']\n",
    "random_grid= {'C':C,\n",
    "             'multi_class':multi_class,\n",
    "             'solver':solver\n",
    "             }\n",
    "lr= LogisticRegression(random_state=9)"
   ]
  },
  {
   "cell_type": "code",
   "execution_count": 74,
   "metadata": {},
   "outputs": [],
   "source": [
    "random_search= RandomizedSearchCV(\n",
    "               estimator= lr,\n",
    "               param_distributions= random_grid,\n",
    "               scoring='accuracy')"
   ]
  },
  {
   "cell_type": "code",
   "execution_count": 75,
   "metadata": {},
   "outputs": [
    {
     "data": {
      "text/plain": [
       "RandomizedSearchCV(estimator=LogisticRegression(random_state=9),\n",
       "                   param_distributions={'C': [0.1, 0.2, 0.30000000000000004,\n",
       "                                              0.4, 0.5, 0.6, 0.7000000000000001,\n",
       "                                              0.8, 0.9, 1.0],\n",
       "                                        'multi_class': ['multinomial'],\n",
       "                                        'solver': ['newton-cg', 'sag', 'saga',\n",
       "                                                   'lbfgs']},\n",
       "                   scoring='accuracy')"
      ]
     },
     "execution_count": 75,
     "metadata": {},
     "output_type": "execute_result"
    }
   ],
   "source": [
    "random_search.fit(train_x,np.ravel(train_y))"
   ]
  },
  {
   "cell_type": "code",
   "execution_count": 76,
   "metadata": {},
   "outputs": [
    {
     "data": {
      "text/plain": [
       "{'solver': 'saga', 'multi_class': 'multinomial', 'C': 1.0}"
      ]
     },
     "execution_count": 76,
     "metadata": {},
     "output_type": "execute_result"
    }
   ],
   "source": [
    "random_search.best_params_"
   ]
  },
  {
   "cell_type": "code",
   "execution_count": 77,
   "metadata": {},
   "outputs": [
    {
     "data": {
      "text/plain": [
       "0.9523991009479136"
      ]
     },
     "execution_count": 77,
     "metadata": {},
     "output_type": "execute_result"
    }
   ],
   "source": [
    "random_search.best_score_"
   ]
  },
  {
   "cell_type": "code",
   "execution_count": 78,
   "metadata": {},
   "outputs": [
    {
     "name": "stdout",
     "output_type": "stream",
     "text": [
      "Training Score : 0.9767318878900053\n",
      "Testing Score : 0.9461077844311377\n"
     ]
    }
   ],
   "source": [
    "model1= random_search.best_estimator_\n",
    "\n",
    "answer1= model1.predict(train_x)\n",
    "print('Training Score :',accuracy_score(answer1,train_y))\n",
    "\n",
    "answer2= model1.predict(val_x)\n",
    "print('Testing Score :',accuracy_score(answer2,val_y))"
   ]
  },
  {
   "cell_type": "markdown",
   "metadata": {},
   "source": [
    "##  More exhaustive search centered in those values:"
   ]
  },
  {
   "cell_type": "code",
   "execution_count": 79,
   "metadata": {},
   "outputs": [
    {
     "data": {
      "text/plain": [
       "GridSearchCV(estimator=LogisticRegression(random_state=9),\n",
       "             param_grid={'C': [0.5, 0.6111111111111112, 0.7222222222222222,\n",
       "                               0.8333333333333333, 0.9444444444444444,\n",
       "                               1.0555555555555556, 1.1666666666666665,\n",
       "                               1.2777777777777777, 1.3888888888888888, 1.5],\n",
       "                         'multi_class': ['multinomial'], 'solver': ['saga']},\n",
       "             scoring='accuracy')"
      ]
     },
     "execution_count": 79,
     "metadata": {},
     "output_type": "execute_result"
    }
   ],
   "source": [
    "C = [float(x) for x in np.linspace(start = 0.5, stop = 1.5, num = 10)]\n",
    "multi_class=['multinomial']\n",
    "solver = ['saga']\n",
    "param_grid= {'C':C,\n",
    "             'multi_class':multi_class,\n",
    "             'solver':solver\n",
    "             }\n",
    "lr= LogisticRegression(random_state=9)\n",
    "\n",
    "grid_search= GridSearchCV(\n",
    "                            estimator= lr,\n",
    "                            param_grid= param_grid,\n",
    "                            scoring='accuracy',\n",
    "                          )\n",
    "grid_search.fit(train_x,np.ravel(train_y))"
   ]
  },
  {
   "cell_type": "code",
   "execution_count": 80,
   "metadata": {},
   "outputs": [
    {
     "data": {
      "text/plain": [
       "0.9523977049043012"
      ]
     },
     "execution_count": 80,
     "metadata": {},
     "output_type": "execute_result"
    }
   ],
   "source": [
    "grid_search.best_score_"
   ]
  },
  {
   "cell_type": "code",
   "execution_count": 81,
   "metadata": {},
   "outputs": [
    {
     "data": {
      "text/plain": [
       "{'C': 1.3888888888888888, 'multi_class': 'multinomial', 'solver': 'saga'}"
      ]
     },
     "execution_count": 81,
     "metadata": {},
     "output_type": "execute_result"
    }
   ],
   "source": [
    "grid_search.best_params_"
   ]
  },
  {
   "cell_type": "code",
   "execution_count": 82,
   "metadata": {},
   "outputs": [],
   "source": [
    "model2= grid_search.best_estimator_"
   ]
  },
  {
   "cell_type": "code",
   "execution_count": 88,
   "metadata": {},
   "outputs": [
    {
     "name": "stdout",
     "output_type": "stream",
     "text": [
      " Training error :  98.09624537281861\n",
      " Testing error :  94.61077844311377\n"
     ]
    }
   ],
   "source": [
    "answer1= model2.predict(train_x)\n",
    "answer2= model2.predict(val_x)\n",
    "\n",
    "print(' Training error : ',accuracy_score(train_y,answer1)*100)\n",
    "print(' Testing error : ',accuracy_score(val_y,answer2)*100)"
   ]
  },
  {
   "cell_type": "code",
   "execution_count": 89,
   "metadata": {},
   "outputs": [
    {
     "name": "stdout",
     "output_type": "stream",
     "text": [
      "               precision    recall  f1-score   support\n",
      "\n",
      "     business       0.97      0.98      0.97       422\n",
      "entertainment       0.97      0.99      0.98       328\n",
      "     politics       0.98      0.96      0.97       352\n",
      "        sport       1.00      0.99      0.99       442\n",
      "         tech       0.99      0.97      0.98       347\n",
      "\n",
      "     accuracy                           0.98      1891\n",
      "    macro avg       0.98      0.98      0.98      1891\n",
      " weighted avg       0.98      0.98      0.98      1891\n",
      "\n"
     ]
    }
   ],
   "source": [
    "print(classification_report(answer1,train_y))"
   ]
  },
  {
   "cell_type": "code",
   "execution_count": 90,
   "metadata": {},
   "outputs": [
    {
     "name": "stdout",
     "output_type": "stream",
     "text": [
      "               precision    recall  f1-score   support\n",
      "\n",
      "     business       0.98      0.89      0.93        89\n",
      "entertainment       0.94      0.94      0.94        49\n",
      "     politics       0.89      0.98      0.93        65\n",
      "        sport       0.99      1.00      0.99        71\n",
      "         tech       0.93      0.93      0.93        60\n",
      "\n",
      "     accuracy                           0.95       334\n",
      "    macro avg       0.94      0.95      0.95       334\n",
      " weighted avg       0.95      0.95      0.95       334\n",
      "\n"
     ]
    }
   ],
   "source": [
    "print(classification_report(answer2,val_y))"
   ]
  },
  {
   "cell_type": "code",
   "execution_count": 98,
   "metadata": {},
   "outputs": [
    {
     "data": {
      "text/html": [
       "<div>\n",
       "<style scoped>\n",
       "    .dataframe tbody tr th:only-of-type {\n",
       "        vertical-align: middle;\n",
       "    }\n",
       "\n",
       "    .dataframe tbody tr th {\n",
       "        vertical-align: top;\n",
       "    }\n",
       "\n",
       "    .dataframe thead th {\n",
       "        text-align: right;\n",
       "    }\n",
       "</style>\n",
       "<table border=\"1\" class=\"dataframe\">\n",
       "  <thead>\n",
       "    <tr style=\"text-align: right;\">\n",
       "      <th></th>\n",
       "      <th>Model</th>\n",
       "      <th>Training Set Accuracy</th>\n",
       "      <th>Test Set Accuracy</th>\n",
       "    </tr>\n",
       "  </thead>\n",
       "  <tbody>\n",
       "    <tr>\n",
       "      <th>0</th>\n",
       "      <td>Logistic Regression</td>\n",
       "      <td>98.096245</td>\n",
       "      <td>94.610778</td>\n",
       "    </tr>\n",
       "  </tbody>\n",
       "</table>\n",
       "</div>"
      ],
      "text/plain": [
       "                 Model  Training Set Accuracy  Test Set Accuracy\n",
       "0  Logistic Regression              98.096245          94.610778"
      ]
     },
     "execution_count": 98,
     "metadata": {},
     "output_type": "execute_result"
    }
   ],
   "source": [
    "d = {\n",
    "     'Model': 'Logistic Regression',\n",
    "     'Training Set Accuracy': accuracy_score(train_y,answer1)*100,\n",
    "     'Test Set Accuracy': accuracy_score(val_y,answer2)*100\n",
    "}\n",
    "\n",
    "df_models_lrc = pd.DataFrame(d, index=[0])\n",
    "df_models_lrc"
   ]
  },
  {
   "cell_type": "code",
   "execution_count": 102,
   "metadata": {},
   "outputs": [],
   "source": [
    "import pickle\n",
    "with open('Models/best_lrc.pickle', 'wb') as output:\n",
    "    pickle.dump(model2, output)\n",
    "    \n",
    "with open('Models/df_models_lrc.pickle', 'wb') as output:\n",
    "    pickle.dump(df_models_lrc, output)"
   ]
  }
 ],
 "metadata": {
  "kernelspec": {
   "display_name": "Python 3",
   "language": "python",
   "name": "python3"
  },
  "language_info": {
   "codemirror_mode": {
    "name": "ipython",
    "version": 3
   },
   "file_extension": ".py",
   "mimetype": "text/x-python",
   "name": "python",
   "nbconvert_exporter": "python",
   "pygments_lexer": "ipython3",
   "version": "3.7.3"
  }
 },
 "nbformat": 4,
 "nbformat_minor": 4
}
