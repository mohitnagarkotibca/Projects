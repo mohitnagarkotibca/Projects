{
 "cells": [
  {
   "cell_type": "code",
   "execution_count": 1,
   "metadata": {},
   "outputs": [],
   "source": [
    "import requests\n",
    "from bs4 import BeautifulSoup\n",
    "import numpy as np\n",
    "import pandas as pd\n",
    "import time\n",
    "import re"
   ]
  },
  {
   "cell_type": "code",
   "execution_count": 2,
   "metadata": {},
   "outputs": [],
   "source": [
    "url='https://www.livemint.com/latest-news/'"
   ]
  },
  {
   "cell_type": "code",
   "execution_count": 3,
   "metadata": {},
   "outputs": [
    {
     "data": {
      "text/plain": [
       "200"
      ]
     },
     "execution_count": 3,
     "metadata": {},
     "output_type": "execute_result"
    }
   ],
   "source": [
    "r1= requests.get(url)\n",
    "r1.status_code"
   ]
  },
  {
   "cell_type": "code",
   "execution_count": 4,
   "metadata": {},
   "outputs": [],
   "source": [
    "coverpage = r1.content\n",
    "\n",
    "soup = BeautifulSoup(coverpage, 'html.parser')\n"
   ]
  },
  {
   "cell_type": "code",
   "execution_count": 5,
   "metadata": {},
   "outputs": [],
   "source": [
    "coverpage_news = soup.findAll('div',{'id':'mylistView'})"
   ]
  },
  {
   "cell_type": "code",
   "execution_count": 6,
   "metadata": {},
   "outputs": [],
   "source": [
    "container = coverpage_news[0].find_all('div',{'class':'listing clearfix impression-candidate'})"
   ]
  },
  {
   "cell_type": "code",
   "execution_count": 2,
   "metadata": {},
   "outputs": [],
   "source": [
    "def scrap_themint():\n",
    "    url='https://www.livemint.com/latest-news/'\n",
    "    r1= requests.get(url)\n",
    "    coverpage = r1.content\n",
    "    soup = BeautifulSoup(coverpage, 'html.parser')\n",
    "    coverpage_news = soup.findAll('div',{'id':'mylistView'})\n",
    "    container = coverpage_news[0].find_all('div',{'class':'listing clearfix impression-candidate'})\n",
    "    titles=[]\n",
    "    links=[]\n",
    "    news=[]\n",
    "    for headline in container:\n",
    "        headtag= headline.find('div',{'class':'headlineSec'})\n",
    "        title= headtag.find('h2').get_text()\n",
    "        link=  headline.find('div',{'class':'headlineSec'}).find('h2').a['href']\n",
    "        base='https://www.livemint.com'\n",
    "        url= base +link\n",
    "        r= requests.get(url)\n",
    "        article_content= r.content\n",
    "        soup= BeautifulSoup(article_content,'html.parser')\n",
    "        paragraph_list= soup.find('div',{'class':'paywall'})\n",
    "        info=[]\n",
    "        for para in paragraph_list.find_all('p')[:-2]:\n",
    "                info.append(para.get_text())\n",
    "        titles.append(title)\n",
    "        links.append(link)\n",
    "        news.append(' '.join(info))\n",
    "    df= pd.DataFrame({'links':links,'title':titles,'news':news})\n",
    "    return df"
   ]
  },
  {
   "cell_type": "code",
   "execution_count": 4,
   "metadata": {},
   "outputs": [],
   "source": [
    "def scrap_themint():\n",
    "    url='https://www.livemint.com/latest-news/'\n",
    "    r1= requests.get(url)\n",
    "    coverpage = r1.content\n",
    "    soup = BeautifulSoup(coverpage, 'html.parser')\n",
    "    coverpage_news = soup.findAll('div',{'id':'mylistView'})\n",
    "    container = coverpage_news[0].find_all('div',{'class':'listing clearfix impression-candidate'})\n",
    "    titles=[]\n",
    "    links=[]\n",
    "    news=[]\n",
    "    for headline in container:\n",
    "        headtag= headline.find('div',{'class':'headlineSec'})\n",
    "        title= headtag.find('h2').get_text()\n",
    "        link=  headline.find('div',{'class':'headlineSec'}).find('h2').a['href']\n",
    "        base='https://www.livemint.com'\n",
    "        url= base +link\n",
    "        r= requests.get(url)\n",
    "        article_content= r.content\n",
    "        soup= BeautifulSoup(article_content,'html.parser')\n",
    "        paragraph_list= soup.find('div',{'class':'paywall'})\n",
    "        info=[]\n",
    "        for para in paragraph_list.find_all('p')[:-2]:\n",
    "                info.append(para.get_text())\n",
    "        titles.append(title)\n",
    "        links.append(link)\n",
    "        news.append(' '.join(info))\n",
    "    df= pd.DataFrame({'links':links,'title':titles,'news':news})\n",
    "    return df"
   ]
  },
  {
   "cell_type": "code",
   "execution_count": 6,
   "metadata": {},
   "outputs": [],
   "source": [
    "url='https://www.livemint.com/latest-news/'\n",
    "r1= requests.get(url)\n",
    "coverpage = r1.content\n",
    "soup = BeautifulSoup(coverpage, 'html.parser')\n",
    "coverpage_news = soup.findAll('div',{'id':'mylistView'})\n",
    "container = coverpage_news[0].find_all('div',{'class':'listing clearfix impression-candidate'})\n",
    "titles=[]\n",
    "links=[]\n",
    "news=[]\n",
    "# for headline in container:\n",
    "#     headtag= headline.find('div',{'class':'headlineSec'})\n",
    "#     title= headtag.find('h2').get_text()\n",
    "#     link=  headline.find('div',{'class':'headlineSec'}).find('h2').a['href']\n",
    "#     base='https://www.livemint.com'\n",
    "#     url= base +link\n",
    "#     r= requests.get(url)\n",
    "#     article_content= r.content\n",
    "#     soup= BeautifulSoup(article_content,'html.parser')\n",
    "#     paragraph_list= soup.find('div',{'class':'paywall'})\n",
    "#     info=[]\n",
    "#     for para in paragraph_list.find_all('p')[:-2]:\n",
    "#             info.append(para.get_text())\n",
    "#     titles.append(title)\n",
    "#     links.append(link)\n",
    "#     news.append(' '.join(info))\n",
    "# df= pd.DataFrame({'links':links,'title':titles,'news':news})"
   ]
  },
  {
   "cell_type": "code",
   "execution_count": 43,
   "metadata": {},
   "outputs": [
    {
     "ename": "AttributeError",
     "evalue": "'NoneType' object has no attribute 'text'",
     "output_type": "error",
     "traceback": [
      "\u001b[1;31m---------------------------------------------------------------------------\u001b[0m",
      "\u001b[1;31mAttributeError\u001b[0m                            Traceback (most recent call last)",
      "\u001b[1;32m<ipython-input-43-ce68ce211aa8>\u001b[0m in \u001b[0;36m<module>\u001b[1;34m\u001b[0m\n\u001b[0;32m      8\u001b[0m     \u001b[0marticle_content\u001b[0m\u001b[1;33m=\u001b[0m \u001b[0mr\u001b[0m\u001b[1;33m.\u001b[0m\u001b[0mcontent\u001b[0m\u001b[1;33m\u001b[0m\u001b[1;33m\u001b[0m\u001b[0m\n\u001b[0;32m      9\u001b[0m     \u001b[0msoup\u001b[0m\u001b[1;33m=\u001b[0m \u001b[0mBeautifulSoup\u001b[0m\u001b[1;33m(\u001b[0m\u001b[0marticle_content\u001b[0m\u001b[1;33m,\u001b[0m\u001b[1;34m'html.parser'\u001b[0m\u001b[1;33m)\u001b[0m\u001b[1;33m\u001b[0m\u001b[1;33m\u001b[0m\u001b[0m\n\u001b[1;32m---> 10\u001b[1;33m     \u001b[0mparagraph_list\u001b[0m\u001b[1;33m=\u001b[0m \u001b[0msoup\u001b[0m\u001b[1;33m.\u001b[0m\u001b[0marticle\u001b[0m\u001b[1;33m.\u001b[0m\u001b[0mfind\u001b[0m\u001b[1;33m(\u001b[0m\u001b[1;34m'ul'\u001b[0m\u001b[1;33m,\u001b[0m\u001b[1;33m{\u001b[0m\u001b[1;34m'class'\u001b[0m\u001b[1;33m:\u001b[0m\u001b[1;34m'highlights'\u001b[0m\u001b[1;33m}\u001b[0m\u001b[1;33m)\u001b[0m\u001b[1;33m.\u001b[0m\u001b[0mtext\u001b[0m\u001b[1;33m\u001b[0m\u001b[1;33m\u001b[0m\u001b[0m\n\u001b[0m        \u001b[1;36mglobal\u001b[0m \u001b[0;36mparagraph_list\u001b[0m \u001b[1;34m= None\u001b[0m\u001b[1;34m\n        \u001b[0m\u001b[1;36mglobal\u001b[0m \u001b[0;36msoup.article.find.text\u001b[0m \u001b[1;34m= \u001b[1;36mundefined\u001b[0m\u001b[0m\n\u001b[0;32m     11\u001b[0m     \u001b[0mprint\u001b[0m\u001b[1;33m(\u001b[0m\u001b[1;34m'done'\u001b[0m\u001b[1;33m)\u001b[0m\u001b[1;33m\u001b[0m\u001b[1;33m\u001b[0m\u001b[0m\n\u001b[0;32m     12\u001b[0m \u001b[1;31m#     info=[]\u001b[0m\u001b[1;33m\u001b[0m\u001b[1;33m\u001b[0m\u001b[1;33m\u001b[0m\u001b[0m\n",
      "\u001b[1;31mAttributeError\u001b[0m: 'NoneType' object has no attribute 'text'"
     ]
    }
   ],
   "source": [
    "for headline in container:\n",
    "    headtag= headline.find('div',{'class':'headlineSec'})\n",
    "    title= headtag.find('h2').get_text()\n",
    "    link=  headline.find('div',{'class':'headlineSec'}).find('h2').a['href']\n",
    "    base='https://www.livemint.com'\n",
    "    url= base +link\n",
    "    r= requests.get(url)\n",
    "    article_content= r.content\n",
    "    soup= BeautifulSoup(article_content,'html.parser')\n",
    "    paragraph_list= soup.article.find('ul',{'class':'highlights'}).text\n",
    "    print('done')\n",
    "#     info=[]\n",
    "#     for para in paragraph_list.find_all('p')[:-2]:\n",
    "#             info.append(para.get_text())\n",
    "    break\n"
   ]
  },
  {
   "cell_type": "code",
   "execution_count": 44,
   "metadata": {},
   "outputs": [],
   "source": [
    "paragraph_list"
   ]
  },
  {
   "cell_type": "code",
   "execution_count": 41,
   "metadata": {},
   "outputs": [
    {
     "data": {
      "text/plain": [
       "\"'Today, wars not fought only on land, sea, air': PS Raghavan on China tension\""
      ]
     },
     "execution_count": 41,
     "metadata": {},
     "output_type": "execute_result"
    }
   ],
   "source": [
    "title"
   ]
  },
  {
   "cell_type": "code",
   "execution_count": 36,
   "metadata": {},
   "outputs": [
    {
     "data": {
      "text/plain": [
       "'/videos/today-wars-not-fought-only-on-land-sea-air-ps-raghavan-on-china-tension-11609958272798.html'"
      ]
     },
     "execution_count": 36,
     "metadata": {},
     "output_type": "execute_result"
    }
   ],
   "source": [
    "link"
   ]
  },
  {
   "cell_type": "code",
   "execution_count": null,
   "metadata": {},
   "outputs": [],
   "source": [
    "/html/body/section/section/div[2]/section[3]/article/ul/li"
   ]
  }
 ],
 "metadata": {
  "kernelspec": {
   "display_name": "Python 3",
   "language": "python",
   "name": "python3"
  },
  "language_info": {
   "codemirror_mode": {
    "name": "ipython",
    "version": 3
   },
   "file_extension": ".py",
   "mimetype": "text/x-python",
   "name": "python",
   "nbconvert_exporter": "python",
   "pygments_lexer": "ipython3",
   "version": "3.7.3"
  }
 },
 "nbformat": 4,
 "nbformat_minor": 4
}
