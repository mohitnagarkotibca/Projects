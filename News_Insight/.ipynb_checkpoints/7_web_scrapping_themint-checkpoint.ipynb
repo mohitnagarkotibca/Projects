{
 "cells": [
  {
   "cell_type": "code",
   "execution_count": 1,
   "metadata": {},
   "outputs": [],
   "source": [
    "import requests\n",
    "from bs4 import BeautifulSoup\n",
    "import numpy as np\n",
    "import pandas as pd\n",
    "import time\n",
    "import re"
   ]
  },
  {
   "cell_type": "code",
   "execution_count": 2,
   "metadata": {},
   "outputs": [],
   "source": [
    "url='https://www.livemint.com/latest-news/'"
   ]
  },
  {
   "cell_type": "code",
   "execution_count": 3,
   "metadata": {},
   "outputs": [
    {
     "data": {
      "text/plain": [
       "200"
      ]
     },
     "execution_count": 3,
     "metadata": {},
     "output_type": "execute_result"
    }
   ],
   "source": [
    "r1= requests.get(url)\n",
    "r1.status_code"
   ]
  },
  {
   "cell_type": "code",
   "execution_count": 4,
   "metadata": {},
   "outputs": [],
   "source": [
    "coverpage = r1.content\n",
    "\n",
    "soup = BeautifulSoup(coverpage, 'html.parser')\n"
   ]
  },
  {
   "cell_type": "code",
   "execution_count": 5,
   "metadata": {},
   "outputs": [],
   "source": [
    "coverpage_news = soup.findAll('div',{'id':'mylistView'})"
   ]
  },
  {
   "cell_type": "code",
   "execution_count": 6,
   "metadata": {},
   "outputs": [],
   "source": [
    "container = coverpage_news[0].find_all('div',{'class':'listing clearfix impression-candidate'})"
   ]
  },
  {
   "cell_type": "code",
   "execution_count": 2,
   "metadata": {},
   "outputs": [],
   "source": [
    "def scrap_themint():\n",
    "    url='https://www.livemint.com/latest-news/'\n",
    "    r1= requests.get(url)\n",
    "    coverpage = r1.content\n",
    "    soup = BeautifulSoup(coverpage, 'html.parser')\n",
    "    coverpage_news = soup.findAll('div',{'id':'mylistView'})\n",
    "    container = coverpage_news[0].find_all('div',{'class':'listing clearfix impression-candidate'})\n",
    "    titles=[]\n",
    "    links=[]\n",
    "    news=[]\n",
    "    for headline in container:\n",
    "        headtag= headline.find('div',{'class':'headlineSec'})\n",
    "        title= headtag.find('h2').get_text()\n",
    "        link=  headline.find('div',{'class':'headlineSec'}).find('h2').a['href']\n",
    "        base='https://www.livemint.com'\n",
    "        url= base +link\n",
    "        r= requests.get(url)\n",
    "        article_content= r.content\n",
    "        soup= BeautifulSoup(article_content,'html.parser')\n",
    "        paragraph_list= soup.find('div',{'class':'paywall'})\n",
    "        info=[]\n",
    "        for para in paragraph_list.find_all('p')[:-2]:\n",
    "                info.append(para.get_text())\n",
    "        titles.append(title)\n",
    "        links.append(link)\n",
    "        news.append(' '.join(info))\n",
    "    df= pd.DataFrame({'links':links,'title':titles,'news':news})\n",
    "    return df"
   ]
  },
  {
   "cell_type": "code",
   "execution_count": 4,
   "metadata": {},
   "outputs": [],
   "source": [
    "def scrap_themint():\n",
    "    url='https://www.livemint.com/latest-news/'\n",
    "    r1= requests.get(url)\n",
    "    coverpage = r1.content\n",
    "    soup = BeautifulSoup(coverpage, 'html.parser')\n",
    "    coverpage_news = soup.findAll('div',{'id':'mylistView'})\n",
    "    container = coverpage_news[0].find_all('div',{'class':'listing clearfix impression-candidate'})\n",
    "    titles=[]\n",
    "    links=[]\n",
    "    news=[]\n",
    "    for headline in container:\n",
    "        headtag= headline.find('div',{'class':'headlineSec'})\n",
    "        title= headtag.find('h2').get_text()\n",
    "        link=  headline.find('div',{'class':'headlineSec'}).find('h2').a['href']\n",
    "        base='https://www.livemint.com'\n",
    "        url= base +link\n",
    "        r= requests.get(url)\n",
    "        article_content= r.content\n",
    "        soup= BeautifulSoup(article_content,'html.parser')\n",
    "        paragraph_list= soup.find('div',{'class':'paywall'})\n",
    "        info=[]\n",
    "        for para in paragraph_list.find_all('p')[:-2]:\n",
    "                info.append(para.get_text())\n",
    "        titles.append(title)\n",
    "        links.append(link)\n",
    "        news.append(' '.join(info))\n",
    "    df= pd.DataFrame({'links':links,'title':titles,'news':news})\n",
    "    return df"
   ]
  },
  {
   "cell_type": "code",
   "execution_count": 6,
   "metadata": {},
   "outputs": [],
   "source": [
    "url='https://www.livemint.com/latest-news/'\n",
    "r1= requests.get(url)\n",
    "coverpage = r1.content\n",
    "soup = BeautifulSoup(coverpage, 'html.parser')\n",
    "coverpage_news = soup.findAll('div',{'id':'mylistView'})\n",
    "container = coverpage_news[0].find_all('div',{'class':'listing clearfix impression-candidate'})\n",
    "titles=[]\n",
    "links=[]\n",
    "news=[]\n",
    "# for headline in container:\n",
    "#     headtag= headline.find('div',{'class':'headlineSec'})\n",
    "#     title= headtag.find('h2').get_text()\n",
    "#     link=  headline.find('div',{'class':'headlineSec'}).find('h2').a['href']\n",
    "#     base='https://www.livemint.com'\n",
    "#     url= base +link\n",
    "#     r= requests.get(url)\n",
    "#     article_content= r.content\n",
    "#     soup= BeautifulSoup(article_content,'html.parser')\n",
    "#     paragraph_list= soup.find('div',{'class':'paywall'})\n",
    "#     info=[]\n",
    "#     for para in paragraph_list.find_all('p')[:-2]:\n",
    "#             info.append(para.get_text())\n",
    "#     titles.append(title)\n",
    "#     links.append(link)\n",
    "#     news.append(' '.join(info))\n",
    "# df= pd.DataFrame({'links':links,'title':titles,'news':news})"
   ]
  },
  {
   "cell_type": "code",
   "execution_count": 9,
   "metadata": {},
   "outputs": [],
   "source": [
    "for headline in container:\n",
    "    headtag= headline.find('div',{'class':'headlineSec'})\n",
    "    title= headtag.find('h2').get_text()\n",
    "    link=  headline.find('div',{'class':'headlineSec'}).find('h2').a['href']\n",
    "    base='https://www.livemint.com'\n",
    "    url= base +link\n",
    "    r= requests.get(url)\n",
    "    article_content= r.content\n",
    "    soup= BeautifulSoup(article_content,'html.parser')\n",
    "    paragraph_list= soup.find('div',{'class':'paywall'})\n",
    "    info=[]\n",
    "    break"
   ]
  },
  {
   "cell_type": "code",
   "execution_count": null,
   "metadata": {},
   "outputs": [],
   "source": []
  }
 ],
 "metadata": {
  "kernelspec": {
   "display_name": "Python 3",
   "language": "python",
   "name": "python3"
  },
  "language_info": {
   "codemirror_mode": {
    "name": "ipython",
    "version": 3
   },
   "file_extension": ".py",
   "mimetype": "text/x-python",
   "name": "python",
   "nbconvert_exporter": "python",
   "pygments_lexer": "ipython3",
   "version": "3.7.3"
  }
 },
 "nbformat": 4,
 "nbformat_minor": 4
}
