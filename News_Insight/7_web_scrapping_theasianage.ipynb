{
 "cells": [
  {
   "cell_type": "code",
   "execution_count": 1,
   "metadata": {},
   "outputs": [],
   "source": [
    "import requests\n",
    "from bs4 import BeautifulSoup\n",
    "import numpy as np\n",
    "import pandas as pd\n",
    "import time\n",
    "import re"
   ]
  },
  {
   "cell_type": "code",
   "execution_count": 2,
   "metadata": {},
   "outputs": [],
   "source": [
    "url='http://www.asianage.com/'"
   ]
  },
  {
   "cell_type": "code",
   "execution_count": 3,
   "metadata": {},
   "outputs": [
    {
     "data": {
      "text/plain": [
       "200"
      ]
     },
     "execution_count": 3,
     "metadata": {},
     "output_type": "execute_result"
    }
   ],
   "source": [
    "r1= requests.get(url)\n",
    "r1.status_code"
   ]
  },
  {
   "cell_type": "code",
   "execution_count": 4,
   "metadata": {},
   "outputs": [],
   "source": [
    "coverpage = r1.content\n",
    "\n",
    "soup = BeautifulSoup(coverpage, 'html.parser')\n"
   ]
  },
  {
   "cell_type": "code",
   "execution_count": 5,
   "metadata": {},
   "outputs": [],
   "source": [
    "coverpage_news = soup.findAll('div',{'class':'single_left_coloum_wrapper other-top-stories'})"
   ]
  },
  {
   "cell_type": "code",
   "execution_count": 6,
   "metadata": {},
   "outputs": [],
   "source": [
    "def scrap_theasianage():\n",
    "    url='http://www.asianage.com/'\n",
    "    r1= requests.get(url)\n",
    "    coverpage = r1.content\n",
    "    soup = BeautifulSoup(coverpage, 'html.parser')\n",
    "    coverpage_news = soup.findAll('div',{'class':'single_left_coloum_wrapper other-top-stories'})\n",
    "    titles=[]\n",
    "    links=[]\n",
    "    multiple_news=[]\n",
    "    base='http://www.asianage.com'\n",
    "    for d in coverpage_news[0].find_all('h3'):\n",
    "        link= d.a['href']\n",
    "        links.append(link)\n",
    "        titles.append(d.text)\n",
    "        r= requests.get(base+ link)\n",
    "        article_content= r.content\n",
    "        soup= BeautifulSoup(article_content,'html.parser')\n",
    "        container= soup.find('div',{'id':'storyBody'})\n",
    "\n",
    "        one_news=[]\n",
    "        for info in container.find_all('p'):\n",
    "            n= info.get_text()\n",
    "            if n != '\\xa0':\n",
    "                one_news.append(n)\n",
    "        multiple_news.append(' '.join(one_news))\n",
    "\n",
    "    df= pd.DataFrame({'links':links,'title':titles,'news':multiple_news})\n",
    "    return df"
   ]
  },
  {
   "cell_type": "code",
   "execution_count": 7,
   "metadata": {},
   "outputs": [],
   "source": [
    "df= scrap_theasianage()\n",
    "df.to_csv('t')"
   ]
  },
  {
   "cell_type": "code",
   "execution_count": null,
   "metadata": {},
   "outputs": [],
   "source": []
  },
  {
   "cell_type": "code",
   "execution_count": null,
   "metadata": {},
   "outputs": [],
   "source": []
  },
  {
   "cell_type": "code",
   "execution_count": null,
   "metadata": {},
   "outputs": [],
   "source": []
  }
 ],
 "metadata": {
  "kernelspec": {
   "display_name": "Python 3",
   "language": "python",
   "name": "python3"
  },
  "language_info": {
   "codemirror_mode": {
    "name": "ipython",
    "version": 3
   },
   "file_extension": ".py",
   "mimetype": "text/x-python",
   "name": "python",
   "nbconvert_exporter": "python",
   "pygments_lexer": "ipython3",
   "version": "3.7.3"
  }
 },
 "nbformat": 4,
 "nbformat_minor": 4
}
