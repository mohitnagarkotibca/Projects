{
 "cells": [
  {
   "cell_type": "code",
   "execution_count": 1,
   "metadata": {},
   "outputs": [],
   "source": [
    "import requests\n",
    "from bs4 import BeautifulSoup\n",
    "import numpy as np\n",
    "import pandas as pd\n",
    "import time\n",
    "import re"
   ]
  },
  {
   "cell_type": "code",
   "execution_count": 2,
   "metadata": {},
   "outputs": [],
   "source": [
    "url='http://www.asianage.com/'"
   ]
  },
  {
   "cell_type": "code",
   "execution_count": 3,
   "metadata": {},
   "outputs": [
    {
     "data": {
      "text/plain": [
       "200"
      ]
     },
     "execution_count": 3,
     "metadata": {},
     "output_type": "execute_result"
    }
   ],
   "source": [
    "r1= requests.get(url)\n",
    "r1.status_code"
   ]
  },
  {
   "cell_type": "code",
   "execution_count": 4,
   "metadata": {},
   "outputs": [],
   "source": [
    "coverpage = r1.content\n",
    "\n",
    "soup = BeautifulSoup(coverpage, 'html.parser')\n"
   ]
  },
  {
   "cell_type": "code",
   "execution_count": 5,
   "metadata": {},
   "outputs": [],
   "source": [
    "coverpage_news = soup.findAll('div',{'class':'single_left_coloum_wrapper other-top-stories'})"
   ]
  },
  {
   "cell_type": "code",
   "execution_count": 6,
   "metadata": {},
   "outputs": [],
   "source": [
    "def scrap_theasianage():\n",
    "    url='http://www.asianage.com/'\n",
    "    r1= requests.get(url)\n",
    "    coverpage = r1.content\n",
    "    soup = BeautifulSoup(coverpage, 'html.parser')\n",
    "    coverpage_news = soup.findAll('div',{'class':'single_left_coloum_wrapper other-top-stories'})\n",
    "    titles=[]\n",
    "    links=[]\n",
    "    multiple_news=[]\n",
    "    base='http://www.asianage.com'\n",
    "    for d in coverpage_news[0].find_all('h3'):\n",
    "        link= d.a['href']\n",
    "        links.append(link)\n",
    "        titles.append(d.text)\n",
    "        r= requests.get(base+ link)\n",
    "        article_content= r.content\n",
    "        soup= BeautifulSoup(article_content,'html.parser')\n",
    "        container= soup.find('div',{'id':'storyBody'})\n",
    "\n",
    "        one_news=[]\n",
    "        for info in container.find_all('p'):\n",
    "            n= info.get_text()\n",
    "            if n != '\\xa0':\n",
    "                one_news.append(n)\n",
    "        multiple_news.append(' '.join(one_news))\n",
    "\n",
    "    df= pd.DataFrame({'links':links,'title':titles,'news':multiple_news})\n",
    "    return df"
   ]
  },
  {
   "cell_type": "code",
   "execution_count": 7,
   "metadata": {},
   "outputs": [],
   "source": [
    "df= scrap_theasianage()\n",
    "# df.to_csv('t')"
   ]
  },
  {
   "cell_type": "code",
   "execution_count": 8,
   "metadata": {},
   "outputs": [
    {
     "data": {
      "text/html": [
       "<div>\n",
       "<style scoped>\n",
       "    .dataframe tbody tr th:only-of-type {\n",
       "        vertical-align: middle;\n",
       "    }\n",
       "\n",
       "    .dataframe tbody tr th {\n",
       "        vertical-align: top;\n",
       "    }\n",
       "\n",
       "    .dataframe thead th {\n",
       "        text-align: right;\n",
       "    }\n",
       "</style>\n",
       "<table border=\"1\" class=\"dataframe\">\n",
       "  <thead>\n",
       "    <tr style=\"text-align: right;\">\n",
       "      <th></th>\n",
       "      <th>links</th>\n",
       "      <th>title</th>\n",
       "      <th>news</th>\n",
       "    </tr>\n",
       "  </thead>\n",
       "  <tbody>\n",
       "    <tr>\n",
       "      <th>0</th>\n",
       "      <td>/india/all-india/060721/dont-shoot-in-the-ches...</td>\n",
       "      <td>Don't shoot in the chest, aim for leg: Assam c...</td>\n",
       "      <td>Guwahati: Assam chief minister Himanta Biswa S...</td>\n",
       "    </tr>\n",
       "    <tr>\n",
       "      <th>1</th>\n",
       "      <td>/india/all-india/050721/board-exams-2022-cbse-...</td>\n",
       "      <td>Board exams 2022: CBSE announces special asses...</td>\n",
       "      <td>New Delhi: The Central Board of Secondary Educ...</td>\n",
       "    </tr>\n",
       "    <tr>\n",
       "      <th>2</th>\n",
       "      <td>/sports/in-other-sports/060721/vips-allowed-at...</td>\n",
       "      <td>VIPs allowed at Tokyo 2020 opening ceremony, b...</td>\n",
       "      <td>Tokyo: Fans are likely to be banned from the T...</td>\n",
       "    </tr>\n",
       "    <tr>\n",
       "      <th>3</th>\n",
       "      <td>/world/asia/060721/japan-searches-for-24-unacc...</td>\n",
       "      <td>Japan searches for 24 unaccounted for in mudsl...</td>\n",
       "      <td>Atami: Rescue workers dug through sludge and d...</td>\n",
       "    </tr>\n",
       "    <tr>\n",
       "      <th>4</th>\n",
       "      <td>/technology/in-other-news/050721/twitter-inc-f...</td>\n",
       "      <td>Twitter Inc failed to comply with new IT Rules...</td>\n",
       "      <td>New Delhi: The Centre Monday told the Delhi Hi...</td>\n",
       "    </tr>\n",
       "    <tr>\n",
       "      <th>5</th>\n",
       "      <td>/india/all-india/050721/activist-stan-swamy-pa...</td>\n",
       "      <td>Activist Stan Swamy passes away ahead of his b...</td>\n",
       "      <td>Tribal rights activist Stan Swamy, an accused ...</td>\n",
       "    </tr>\n",
       "    <tr>\n",
       "      <th>6</th>\n",
       "      <td>/india/politics/050721/former-president-pranab...</td>\n",
       "      <td>Former President Pranab Mukherjee's son Abhiji...</td>\n",
       "      <td>Kolkata: Former President Pranab Mukherjee's s...</td>\n",
       "    </tr>\n",
       "    <tr>\n",
       "      <th>7</th>\n",
       "      <td>/india/all-india/050721/shocking-that-people-s...</td>\n",
       "      <td>Shocking that people still booked under scrapp...</td>\n",
       "      <td>New Delhi: The Supreme Court Monday said it is...</td>\n",
       "    </tr>\n",
       "    <tr>\n",
       "      <th>8</th>\n",
       "      <td>/india/all-india/050721/gupkar-alliance-demand...</td>\n",
       "      <td>Gupkar Alliance demands restoration of stateho...</td>\n",
       "      <td>Srinagar: Assembly elections in Jammu and Kash...</td>\n",
       "    </tr>\n",
       "    <tr>\n",
       "      <th>9</th>\n",
       "      <td>/science/050721/pfizer-covid-vaccine-induces-g...</td>\n",
       "      <td>Pfizer Covid vaccine induces 'good' immune res...</td>\n",
       "      <td>London: Two doses of the Pfizer COVID-19 vacci...</td>\n",
       "    </tr>\n",
       "  </tbody>\n",
       "</table>\n",
       "</div>"
      ],
      "text/plain": [
       "                                               links  \\\n",
       "0  /india/all-india/060721/dont-shoot-in-the-ches...   \n",
       "1  /india/all-india/050721/board-exams-2022-cbse-...   \n",
       "2  /sports/in-other-sports/060721/vips-allowed-at...   \n",
       "3  /world/asia/060721/japan-searches-for-24-unacc...   \n",
       "4  /technology/in-other-news/050721/twitter-inc-f...   \n",
       "5  /india/all-india/050721/activist-stan-swamy-pa...   \n",
       "6  /india/politics/050721/former-president-pranab...   \n",
       "7  /india/all-india/050721/shocking-that-people-s...   \n",
       "8  /india/all-india/050721/gupkar-alliance-demand...   \n",
       "9  /science/050721/pfizer-covid-vaccine-induces-g...   \n",
       "\n",
       "                                               title  \\\n",
       "0  Don't shoot in the chest, aim for leg: Assam c...   \n",
       "1  Board exams 2022: CBSE announces special asses...   \n",
       "2  VIPs allowed at Tokyo 2020 opening ceremony, b...   \n",
       "3  Japan searches for 24 unaccounted for in mudsl...   \n",
       "4  Twitter Inc failed to comply with new IT Rules...   \n",
       "5  Activist Stan Swamy passes away ahead of his b...   \n",
       "6  Former President Pranab Mukherjee's son Abhiji...   \n",
       "7  Shocking that people still booked under scrapp...   \n",
       "8  Gupkar Alliance demands restoration of stateho...   \n",
       "9  Pfizer Covid vaccine induces 'good' immune res...   \n",
       "\n",
       "                                                news  \n",
       "0  Guwahati: Assam chief minister Himanta Biswa S...  \n",
       "1  New Delhi: The Central Board of Secondary Educ...  \n",
       "2  Tokyo: Fans are likely to be banned from the T...  \n",
       "3  Atami: Rescue workers dug through sludge and d...  \n",
       "4  New Delhi: The Centre Monday told the Delhi Hi...  \n",
       "5  Tribal rights activist Stan Swamy, an accused ...  \n",
       "6  Kolkata: Former President Pranab Mukherjee's s...  \n",
       "7  New Delhi: The Supreme Court Monday said it is...  \n",
       "8  Srinagar: Assembly elections in Jammu and Kash...  \n",
       "9  London: Two doses of the Pfizer COVID-19 vacci...  "
      ]
     },
     "execution_count": 8,
     "metadata": {},
     "output_type": "execute_result"
    }
   ],
   "source": [
    "df"
   ]
  },
  {
   "cell_type": "code",
   "execution_count": null,
   "metadata": {},
   "outputs": [],
   "source": []
  },
  {
   "cell_type": "code",
   "execution_count": null,
   "metadata": {},
   "outputs": [],
   "source": []
  }
 ],
 "metadata": {
  "kernelspec": {
   "display_name": "Python 3",
   "language": "python",
   "name": "python3"
  },
  "language_info": {
   "codemirror_mode": {
    "name": "ipython",
    "version": 3
   },
   "file_extension": ".py",
   "mimetype": "text/x-python",
   "name": "python",
   "nbconvert_exporter": "python",
   "pygments_lexer": "ipython3",
   "version": "3.7.10"
  }
 },
 "nbformat": 4,
 "nbformat_minor": 4
}
