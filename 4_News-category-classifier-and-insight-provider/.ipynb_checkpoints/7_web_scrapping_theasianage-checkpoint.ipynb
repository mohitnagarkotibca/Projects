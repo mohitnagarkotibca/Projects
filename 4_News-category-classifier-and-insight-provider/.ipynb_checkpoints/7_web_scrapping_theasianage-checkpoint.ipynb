{
 "cells": [
  {
   "cell_type": "code",
   "execution_count": 1,
   "metadata": {},
   "outputs": [],
   "source": [
    "import requests\n",
    "from bs4 import BeautifulSoup\n",
    "import numpy as np\n",
    "import pandas as pd\n",
    "import time\n",
    "import re"
   ]
  },
  {
   "cell_type": "code",
   "execution_count": 2,
   "metadata": {},
   "outputs": [],
   "source": [
    "url='http://www.asianage.com/'"
   ]
  },
  {
   "cell_type": "code",
   "execution_count": 3,
   "metadata": {},
   "outputs": [
    {
     "data": {
      "text/plain": [
       "200"
      ]
     },
     "execution_count": 3,
     "metadata": {},
     "output_type": "execute_result"
    }
   ],
   "source": [
    "r1= requests.get(url)\n",
    "r1.status_code"
   ]
  },
  {
   "cell_type": "code",
   "execution_count": 4,
   "metadata": {},
   "outputs": [],
   "source": [
    "coverpage = r1.content\n",
    "\n",
    "soup = BeautifulSoup(coverpage, 'html.parser')\n"
   ]
  },
  {
   "cell_type": "code",
   "execution_count": 5,
   "metadata": {},
   "outputs": [],
   "source": [
    "coverpage_news = soup.findAll('div',{'class':'single_left_coloum_wrapper other-top-stories'})"
   ]
  },
  {
   "cell_type": "code",
   "execution_count": 6,
   "metadata": {},
   "outputs": [],
   "source": [
    "def scrap_theasianage():\n",
    "    url='http://www.asianage.com/'\n",
    "    r1= requests.get(url)\n",
    "    coverpage = r1.content\n",
    "    soup = BeautifulSoup(coverpage, 'html.parser')\n",
    "    coverpage_news = soup.findAll('div',{'class':'single_left_coloum_wrapper other-top-stories'})\n",
    "    titles=[]\n",
    "    links=[]\n",
    "    multiple_news=[]\n",
    "    base='http://www.asianage.com'\n",
    "    for d in coverpage_news[0].find_all('h3'):\n",
    "        link= d.a['href']\n",
    "        links.append(link)\n",
    "        titles.append(d.text)\n",
    "        r= requests.get(base+ link)\n",
    "        article_content= r.content\n",
    "        soup= BeautifulSoup(article_content,'html.parser')\n",
    "        container= soup.find('div',{'id':'storyBody'})\n",
    "\n",
    "        one_news=[]\n",
    "        for info in container.find_all('p'):\n",
    "            n= info.get_text()\n",
    "            if n != '\\xa0':\n",
    "                one_news.append(n)\n",
    "        multiple_news.append(' '.join(one_news))\n",
    "\n",
    "    df= pd.DataFrame({'links':links,'title':titles,'news':multiple_news})\n",
    "    return df"
   ]
  },
  {
   "cell_type": "code",
   "execution_count": 7,
   "metadata": {},
   "outputs": [
    {
     "data": {
      "text/html": [
       "<div>\n",
       "<style scoped>\n",
       "    .dataframe tbody tr th:only-of-type {\n",
       "        vertical-align: middle;\n",
       "    }\n",
       "\n",
       "    .dataframe tbody tr th {\n",
       "        vertical-align: top;\n",
       "    }\n",
       "\n",
       "    .dataframe thead th {\n",
       "        text-align: right;\n",
       "    }\n",
       "</style>\n",
       "<table border=\"1\" class=\"dataframe\">\n",
       "  <thead>\n",
       "    <tr style=\"text-align: right;\">\n",
       "      <th></th>\n",
       "      <th>links</th>\n",
       "      <th>title</th>\n",
       "      <th>news</th>\n",
       "    </tr>\n",
       "  </thead>\n",
       "  <tbody>\n",
       "    <tr>\n",
       "      <th>0</th>\n",
       "      <td>/india/all-india/011020/hathras-case-markandey...</td>\n",
       "      <td>Hathras case: Markandey Katju's post linking u...</td>\n",
       "      <td>A day after a 19-year-old Dalit girl in Hathra...</td>\n",
       "    </tr>\n",
       "    <tr>\n",
       "      <th>1</th>\n",
       "      <td>/india/all-india/011020/shopian-fake-encounter...</td>\n",
       "      <td>Shopian fake encounter: Remains of youth to be...</td>\n",
       "      <td>SRINAGAR: The authorities in Jammu and Kashmir...</td>\n",
       "    </tr>\n",
       "    <tr>\n",
       "      <th>2</th>\n",
       "      <td>/sports/cricket/011020/over-26-crore-viewers-w...</td>\n",
       "      <td>Over 26 crore viewers were glued to their TV s...</td>\n",
       "      <td>Mumbai: After months long lull due to the COVI...</td>\n",
       "    </tr>\n",
       "    <tr>\n",
       "      <th>3</th>\n",
       "      <td>/india/all-india/011020/india-china-reiterate-...</td>\n",
       "      <td>India, China reiterate to disengage troops at ...</td>\n",
       "      <td>New Delhi: Senior Indian and Chinese diplomats...</td>\n",
       "    </tr>\n",
       "    <tr>\n",
       "      <th>4</th>\n",
       "      <td>/india/all-india/011020/two-jawans-killed-four...</td>\n",
       "      <td>Two jawans killed, four injured in unprovoked ...</td>\n",
       "      <td>Srinagar: Two soldiers were killed and four in...</td>\n",
       "    </tr>\n",
       "    <tr>\n",
       "      <th>5</th>\n",
       "      <td>/india/all-india/011020/accidents-are-complex-...</td>\n",
       "      <td>Accidents are complex phenomena, says Ordnance...</td>\n",
       "      <td>New Delhi: Ordnance Factory Board (OFB) said o...</td>\n",
       "    </tr>\n",
       "    <tr>\n",
       "      <th>6</th>\n",
       "      <td>/india/all-india/300920/babri-demolition-verdi...</td>\n",
       "      <td>Babri demolition verdict: All accused, includi...</td>\n",
       "      <td>Nearly 28 years after the Babri Masjid in Ayod...</td>\n",
       "    </tr>\n",
       "    <tr>\n",
       "      <th>7</th>\n",
       "      <td>/india/all-india/300920/from-october-15-multip...</td>\n",
       "      <td>From October 15, multiplexes and cinemas can r...</td>\n",
       "      <td>New Delhi: The Union Home Ministry on Wednesda...</td>\n",
       "    </tr>\n",
       "    <tr>\n",
       "      <th>8</th>\n",
       "      <td>/india/all-india/300920/faulty-ammunitions-by-...</td>\n",
       "      <td>Faulty ammunitions by Ordnance factories kille...</td>\n",
       "      <td>New Delhi: The faulty ammunition supplied by O...</td>\n",
       "    </tr>\n",
       "    <tr>\n",
       "      <th>9</th>\n",
       "      <td>/india/crime/300920/hathras-gangrape-and-muder...</td>\n",
       "      <td>Hathras gangrape and murder: Family accuses po...</td>\n",
       "      <td>Hathras (UP): The body of the 19-year-old Dali...</td>\n",
       "    </tr>\n",
       "  </tbody>\n",
       "</table>\n",
       "</div>"
      ],
      "text/plain": [
       "                                               links  \\\n",
       "0  /india/all-india/011020/hathras-case-markandey...   \n",
       "1  /india/all-india/011020/shopian-fake-encounter...   \n",
       "2  /sports/cricket/011020/over-26-crore-viewers-w...   \n",
       "3  /india/all-india/011020/india-china-reiterate-...   \n",
       "4  /india/all-india/011020/two-jawans-killed-four...   \n",
       "5  /india/all-india/011020/accidents-are-complex-...   \n",
       "6  /india/all-india/300920/babri-demolition-verdi...   \n",
       "7  /india/all-india/300920/from-october-15-multip...   \n",
       "8  /india/all-india/300920/faulty-ammunitions-by-...   \n",
       "9  /india/crime/300920/hathras-gangrape-and-muder...   \n",
       "\n",
       "                                               title  \\\n",
       "0  Hathras case: Markandey Katju's post linking u...   \n",
       "1  Shopian fake encounter: Remains of youth to be...   \n",
       "2  Over 26 crore viewers were glued to their TV s...   \n",
       "3  India, China reiterate to disengage troops at ...   \n",
       "4  Two jawans killed, four injured in unprovoked ...   \n",
       "5  Accidents are complex phenomena, says Ordnance...   \n",
       "6  Babri demolition verdict: All accused, includi...   \n",
       "7  From October 15, multiplexes and cinemas can r...   \n",
       "8  Faulty ammunitions by Ordnance factories kille...   \n",
       "9  Hathras gangrape and murder: Family accuses po...   \n",
       "\n",
       "                                                news  \n",
       "0  A day after a 19-year-old Dalit girl in Hathra...  \n",
       "1  SRINAGAR: The authorities in Jammu and Kashmir...  \n",
       "2  Mumbai: After months long lull due to the COVI...  \n",
       "3  New Delhi: Senior Indian and Chinese diplomats...  \n",
       "4  Srinagar: Two soldiers were killed and four in...  \n",
       "5  New Delhi: Ordnance Factory Board (OFB) said o...  \n",
       "6  Nearly 28 years after the Babri Masjid in Ayod...  \n",
       "7  New Delhi: The Union Home Ministry on Wednesda...  \n",
       "8  New Delhi: The faulty ammunition supplied by O...  \n",
       "9  Hathras (UP): The body of the 19-year-old Dali...  "
      ]
     },
     "execution_count": 7,
     "metadata": {},
     "output_type": "execute_result"
    }
   ],
   "source": [
    "df= scrap_theasianage()\n",
    "df.to_csv('t')"
   ]
  },
  {
   "cell_type": "code",
   "execution_count": null,
   "metadata": {},
   "outputs": [],
   "source": []
  },
  {
   "cell_type": "code",
   "execution_count": null,
   "metadata": {},
   "outputs": [],
   "source": []
  },
  {
   "cell_type": "code",
   "execution_count": null,
   "metadata": {},
   "outputs": [],
   "source": []
  }
 ],
 "metadata": {
  "kernelspec": {
   "display_name": "Python 3",
   "language": "python",
   "name": "python3"
  },
  "language_info": {
   "codemirror_mode": {
    "name": "ipython",
    "version": 3
   },
   "file_extension": ".py",
   "mimetype": "text/x-python",
   "name": "python",
   "nbconvert_exporter": "python",
   "pygments_lexer": "ipython3",
   "version": "3.7.3"
  }
 },
 "nbformat": 4,
 "nbformat_minor": 4
}
